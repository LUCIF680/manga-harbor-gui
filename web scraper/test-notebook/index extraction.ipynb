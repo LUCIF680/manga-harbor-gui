{
 "cells": [
  {
   "cell_type": "code",
   "execution_count": 153,
   "metadata": {},
   "outputs": [
    {
     "name": "stdout",
     "output_type": "stream",
     "text": [
      "[None]\n",
      "{'Tales of Demons and Gods': ['https://readmanganato.com/manga-ax951880']}\n",
      "[None]\n",
      "{'Solo Leveling': ['https://readmanganato.com/manga-dr980474']}\n",
      "[None]\n",
      "{'Martial Peak': ['https://readmanganato.com/manga-bn978870']}\n",
      "[None]\n",
      "{'Apotheosis': ['https://readmanganato.com/manga-bt978676']}\n",
      "[None]\n",
      "{'Versatile Mage': ['https://readmanganato.com/manga-bf979214']}\n",
      "[None]\n",
      "{'Star Martial God Technique': ['https://readmanganato.com/manga-wj973392']}\n",
      "[None]\n",
      "{\"A Returner's Magic Should Be Special\": ['https://readmanganato.com/manga-ci980191']}\n",
      "[None]\n",
      "{'The Beginning After the End': ['https://readmanganato.com/manga-dg980989']}\n",
      "[None]\n",
      "{'Kimetsu no Yaiba': ['https://readmanganato.com/manga-to970571']}\n",
      "[None]\n",
      "{'One Piece': ['https://readmanganato.com/manga-aa951409']}\n",
      "[None]\n",
      "{'Rebirth Of The Urban Immortal Cultivator': ['https://readmanganato.com/manga-fr982926']}\n",
      "[None]\n",
      "{'Komi-san wa Komyushou Desu': ['https://readmanganato.com/manga-va953509']}\n",
      "[None]\n",
      "{'God of Martial Arts': ['https://readmanganato.com/manga-ah978064']}\n",
      "[None]\n",
      "{'My Wife Is a Demon Queen': ['https://readmanganato.com/manga-dk980967']}\n",
      "[None]\n",
      "{'Tensei Shitara Slime Datta Ken': ['https://readmanganato.com/manga-tz953334']}\n",
      "[None]\n",
      "{'Mushoku Tensei - Isekai Ittara Honki Dasu': ['https://readmanganato.com/manga-qm951521']}\n",
      "[None]\n",
      "{'Onepunch-Man': ['https://readmanganato.com/manga-wd951838']}\n",
      "[None]\n",
      "{'Magic Emperor': ['https://readmanganato.com/manga-gr983826']}\n",
      "[None]\n",
      "{'Ranker Who Lives A Second Time': ['https://readmanganato.com/manga-ec981811']}\n",
      "[None]\n",
      "{'Boku no Hero Academia': ['https://readmanganato.com/manga-jq951973']}\n",
      "[None]\n",
      "{'Tomo-chan wa Onnanoko!': ['https://readmanganato.com/manga-yg951863']}\n",
      "[None]\n",
      "{'Mairimashita! Iruma-kun': ['https://readmanganato.com/manga-zd976838']}\n",
      "[None]\n",
      "{'Kingdom': ['https://readmanganato.com/manga-qi951517']}\n",
      "[None]\n",
      "{'Release That Witch': ['https://readmanganato.com/manga-do980949']}\n"
     ]
    }
   ],
   "source": [
    "import requests\n",
    "from bs4 import BeautifulSoup as bs\n",
    "\n",
    "r=requests.get('https://mangakakalot.com/manga_list?type=topview&category=all&state=all&page=1')\n",
    "soup= bs(r.content,'html.parser')\n",
    "s = soup.find_all('div', class_=\"list-truyen-item-wrap\")\n",
    "for i in range(len(s)) :\n",
    "    content_tag=(s[i].a)\n",
    "    title = [content_tag.get('title')]\n",
    "    link = [content_tag.get('href')]\n",
    "    title_link_dict = dict(zip(title,(link, img_src)))\n",
    "    print(title_link_dict)"
   ]
  },
  {
   "cell_type": "code",
   "execution_count": 6,
   "metadata": {},
   "outputs": [
    {
     "name": "stdout",
     "output_type": "stream",
     "text": [
      "['Tales of Demons and Gods']\n",
      "['Solo Leveling']\n",
      "['Martial Peak']\n",
      "['Apotheosis']\n",
      "['Versatile Mage']\n",
      "['Star Martial God Technique']\n",
      "[\"A Returner's Magic Should Be Special\"]\n",
      "['The Beginning After the End']\n",
      "['Kimetsu no Yaiba']\n",
      "['One Piece']\n",
      "['Rebirth Of The Urban Immortal Cultivator']\n",
      "['Komi-san wa Komyushou Desu']\n",
      "['God of Martial Arts']\n",
      "['My Wife Is a Demon Queen']\n",
      "['Tensei Shitara Slime Datta Ken']\n",
      "['Mushoku Tensei - Isekai Ittara Honki Dasu']\n",
      "['Onepunch-Man']\n",
      "['Magic Emperor']\n",
      "['Ranker Who Lives A Second Time']\n",
      "['Boku no Hero Academia']\n",
      "['Tomo-chan wa Onnanoko!']\n",
      "['Mairimashita! Iruma-kun']\n",
      "['Kingdom']\n",
      "['Release That Witch']\n"
     ]
    }
   ],
   "source": [
    "import requests\n",
    "from bs4 import BeautifulSoup as bs\n",
    "import csv\n",
    "import pandas\n",
    "\n",
    "\n",
    "\n",
    "\n",
    "URL='https://mangakakalot.com/manga_list?type=topview&category=all&state=all&page='\n",
    "\n",
    "for page in range(1, 2):\n",
    " \n",
    "    req = requests.get(URL + str(page) + '/')\n",
    "    soup = bs(req.text, 'html.parser')\n",
    "    s = soup.find_all('div', class_=\"list-truyen-item-wrap\")\n",
    "    for i in range(len(s)) :\n",
    "        s = soup.find_all('div', class_=\"list-truyen-item-wrap\")\n",
    "        content_tag=(s[i].a)\n",
    "        title =[content_tag.get('title')]\n",
    "        link = [content_tag.get('href')]\n",
    "        images = content_tag.select('img')\n",
    "        for image in images:\n",
    "            images_list = [image.get('src')]\n",
    "        \n",
    "\n"
   ]
  },
  {
   "cell_type": "code",
   "execution_count": 15,
   "metadata": {},
   "outputs": [
    {
     "ename": "UnicodeEncodeError",
     "evalue": "'charmap' codec can't encode character '\\u2015' in position 58: character maps to <undefined>",
     "output_type": "error",
     "traceback": [
      "\u001b[1;31m---------------------------------------------------------------------------\u001b[0m",
      "\u001b[1;31mUnicodeEncodeError\u001b[0m                        Traceback (most recent call last)",
      "Cell \u001b[1;32mIn[15], line 30\u001b[0m\n\u001b[0;32m     28\u001b[0m \u001b[39mwith\u001b[39;00m \u001b[39mopen\u001b[39m(\u001b[39m'\u001b[39m\u001b[39mlisttocsv.csv\u001b[39m\u001b[39m'\u001b[39m, \u001b[39m'\u001b[39m\u001b[39ma\u001b[39m\u001b[39m'\u001b[39m) \u001b[39mas\u001b[39;00m file:\n\u001b[0;32m     29\u001b[0m     writer \u001b[39m=\u001b[39m csv\u001b[39m.\u001b[39mwriter(file)\n\u001b[1;32m---> 30\u001b[0m     writer\u001b[39m.\u001b[39;49mwriterow(l)\n",
      "File \u001b[1;32mC:\\Python310\\lib\\encodings\\cp1252.py:19\u001b[0m, in \u001b[0;36mIncrementalEncoder.encode\u001b[1;34m(self, input, final)\u001b[0m\n\u001b[0;32m     18\u001b[0m \u001b[39mdef\u001b[39;00m \u001b[39mencode\u001b[39m(\u001b[39mself\u001b[39m, \u001b[39minput\u001b[39m, final\u001b[39m=\u001b[39m\u001b[39mFalse\u001b[39;00m):\n\u001b[1;32m---> 19\u001b[0m     \u001b[39mreturn\u001b[39;00m codecs\u001b[39m.\u001b[39;49mcharmap_encode(\u001b[39minput\u001b[39;49m,\u001b[39mself\u001b[39;49m\u001b[39m.\u001b[39;49merrors,encoding_table)[\u001b[39m0\u001b[39m]\n",
      "\u001b[1;31mUnicodeEncodeError\u001b[0m: 'charmap' codec can't encode character '\\u2015' in position 58: character maps to <undefined>"
     ]
    }
   ],
   "source": [
    "import requests\n",
    "from bs4 import BeautifulSoup as bs\n",
    "import csv\n",
    "\n",
    "\n",
    "URL='https://mangakakalot.com/manga_list?type=topview&category=all&state=all&page='\n",
    "headers =['Title', 'Manga link', 'Title Image source']\n",
    "\n",
    "for page in range(1, 1480):\n",
    " \n",
    "    req = requests.get(URL + str(page) + '/')\n",
    "    soup = bs(req.text, 'html.parser')\n",
    "    s = soup.find_all('div', class_=\"list-truyen-item-wrap\")\n",
    "    for i in range(len(s)) :\n",
    "        s = soup.find_all('div', class_=\"list-truyen-item-wrap\")\n",
    "        content_tag=(s[i].a)\n",
    "        title =[content_tag.get('title')]\n",
    "        link = [content_tag.get('href')]\n",
    "        \n",
    "        images = content_tag.select('img')\n",
    "        for image in images:\n",
    "            images_list = [image.get('src')]\n",
    "            rows = zip(title,link,images_list)\n",
    "        \n",
    "        l=[]\n",
    "        for i in rows:\n",
    "            l.append(i)\n",
    "            with open('listtocsv.csv', 'a') as file:\n",
    "                writer = csv.writer(file)\n",
    "                writer.writerow(l)\n",
    "        "
   ]
  },
  {
   "cell_type": "code",
   "execution_count": null,
   "metadata": {},
   "outputs": [],
   "source": []
  }
 ],
 "metadata": {
  "kernelspec": {
   "display_name": ".venv",
   "language": "python",
   "name": "python3"
  },
  "language_info": {
   "codemirror_mode": {
    "name": "ipython",
    "version": 3
   },
   "file_extension": ".py",
   "mimetype": "text/x-python",
   "name": "python",
   "nbconvert_exporter": "python",
   "pygments_lexer": "ipython3",
   "version": "3.10.4"
  },
  "orig_nbformat": 4
 },
 "nbformat": 4,
 "nbformat_minor": 2
}
